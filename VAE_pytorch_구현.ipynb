{
  "nbformat": 4,
  "nbformat_minor": 0,
  "metadata": {
    "colab": {
      "private_outputs": true,
      "provenance": [],
      "gpuType": "T4",
      "authorship_tag": "ABX9TyOJHpQLRvBXxSOOee023+9w",
      "include_colab_link": true
    },
    "kernelspec": {
      "name": "python3",
      "display_name": "Python 3"
    },
    "language_info": {
      "name": "python"
    },
    "accelerator": "GPU"
  },
  "cells": [
    {
      "cell_type": "markdown",
      "metadata": {
        "id": "view-in-github",
        "colab_type": "text"
      },
      "source": [
        "<a href=\"https://colab.research.google.com/github/taekyungss/computer_vision_planting_grass/blob/main/VAE_pytorch_%EA%B5%AC%ED%98%84.ipynb\" target=\"_parent\"><img src=\"https://colab.research.google.com/assets/colab-badge.svg\" alt=\"Open In Colab\"/></a>"
      ]
    },
    {
      "cell_type": "code",
      "execution_count": null,
      "metadata": {
        "id": "ucL5RWrYY7PW"
      },
      "outputs": [],
      "source": [
        "\n",
        "# prerequisites\n",
        "import torch\n",
        "import torch.nn as nn\n",
        "import torch.nn.functional as F\n",
        "import torch.optim as optim\n",
        "from torchvision import datasets, transforms\n",
        "from torch.autograd import Variable\n",
        "from torchvision.utils import save_image\n"
      ]
    },
    {
      "cell_type": "code",
      "source": [
        "bs = 100\n",
        "\n",
        "# MNIST dataset\n",
        "train_dataset = datasets.MNIST(root=\"./mnist_data/\", train=True, transform = transforms.ToTensor(), download=True)\n",
        "test_dataset = datasets.MNIST(root='./mnist_data/', train=False, transform = transforms.ToTensor(), download=False)\n",
        "\n",
        "# Data Loader ( input pipeline )\n",
        "train_loader = torch.utils.data.DataLoader(dataset = train_dataset, batch_size = bs, shuffle = True)\n",
        "test_loader = torch.utils.data.DataLoader(dataset = test_dataset, batch_size = bs, shuffle = False)"
      ],
      "metadata": {
        "id": "OsRCw3PUwC0J"
      },
      "execution_count": null,
      "outputs": []
    },
    {
      "cell_type": "code",
      "source": [
        "class VAE(nn.Module):\n",
        "  def __init__(self, x_dim, h_dim1, h_dim2, z_dim):\n",
        "    super(VAE, self).__init__()\n",
        "\n",
        "    # encoder part\n",
        "    self.fc1 = nn.Linear(x_dim, h_dim1)\n",
        "    self.fc2 = nn.Linear(h_dim1, h_dim2)\n",
        "    self.fc31 = nn.Linear(h_dim2, z_dim)\n",
        "    self.fc32 = nn.Linear(h_dim2, z_dim)\n",
        "\n",
        "    # decoder part\n",
        "    self.fc4 = nn.Linear(z_dim, h_dim2)\n",
        "    self.fc5 = nn.Linear(h_dim2, h_dim1)\n",
        "    self.fc6 = nn.Linear(h_dim1, x_dim)\n",
        "\n",
        "  def encoder(self,x):\n",
        "    h = F.relu(self.fc1(x))\n",
        "    h = F.relu(self.fc2(h))\n",
        "    return self.fc31(h), self.fc32(h)\n",
        "\n",
        "\n",
        "  def sampling(self,mu,log_var):\n",
        "    std = torch.exp(0.5*log_var)\n",
        "    eps = torch.randn_like(std)\n",
        "    return eps.mul(std).add_(mu)\n",
        "\n",
        "  def decoder(self,z):\n",
        "    h = F.relu(self.fc4(z))\n",
        "    h = F.relu(self.fc5(h))\n",
        "    return F.sigmoid(self.fc6(h))\n",
        "\n",
        "  def forward(self,x):\n",
        "    mu, log_var = self.encoder(x.view(-1, 784))\n",
        "    z = self.sampling(mu, log_var)\n",
        "    return self.decoder(z), mu, log_var\n",
        "\n",
        "\n",
        "vae = VAE(x_dim=784, h_dim1= 512, h_dim2=256, z_dim = 2)\n",
        "if torch.cuda.is_available():\n",
        "  vae.cuda()"
      ],
      "metadata": {
        "id": "6vHB5F5ew-6k"
      },
      "execution_count": null,
      "outputs": []
    },
    {
      "cell_type": "code",
      "source": [
        "vae"
      ],
      "metadata": {
        "id": "xR95bzsr34Qx"
      },
      "execution_count": null,
      "outputs": []
    },
    {
      "cell_type": "code",
      "source": [
        "optimizer = optim.Adam(vae.parameters())\n",
        "\n",
        "def loss_function(recon_x, x, mu, log_var):\n",
        "  BCE = F.binary_cross_entropy(recon_x, x.view(-1,784), reduction='sum')\n",
        "  # binary cross entropy loss\n",
        "  KLD = -0.5 * torch.sum(1 + log_var - mu.pow(2) - log_var.exp())\n",
        "  # KLD loss => KL divergence loss\n",
        "  return BCE + KLD"
      ],
      "metadata": {
        "id": "I3zEIHOd47eb"
      },
      "execution_count": null,
      "outputs": []
    },
    {
      "cell_type": "code",
      "source": [
        "def train(epoch):\n",
        "  vae.train()\n",
        "  train_loss =0\n",
        "  for batch_idx, (data, _) in enumerate(train_loader):\n",
        "    data = data.cuda()\n",
        "    optimizer.zero_grad()\n",
        "\n",
        "    recon_batch, mu, log_var = vae(data)\n",
        "    loss = loss_function(recon_batch, data,mu, log_var)\n",
        "\n",
        "    loss.backward()\n",
        "    train_loss += loss.item()\n",
        "    optimizer.step()\n",
        "\n",
        "    if batch_idx % 100 == 0:\n",
        "        print('Train Epoch: {} [{}/{} ({:.0f}%)]\\tLoss: {:.6f}'.format(\n",
        "            epoch, batch_idx * len(data), len(train_loader.dataset),\n",
        "            100. * batch_idx / len(train_loader), loss.item() / len(data)))\n",
        "  print('====> Epoch: {} Average loss: {:.4f}'.format(epoch, train_loss / len(train_loader.dataset)))"
      ],
      "metadata": {
        "id": "yax254pH5wfI"
      },
      "execution_count": null,
      "outputs": []
    },
    {
      "cell_type": "code",
      "source": [
        "def test():\n",
        "  vae.eval()\n",
        "  test_loss =0\n",
        "  with torch.no_grad():\n",
        "    for data, _ in test_loader:\n",
        "      data = data.cuda()\n",
        "      recon, mu, log_var = vae(data)\n",
        "\n",
        "      test_loss += loss_function(recon, data, mu, log_var).item()\n",
        "\n",
        "    test_loss /= len(test_loader.dataset)\n",
        "    print(\"=====> Test set loss: {:.4f}\".format(test_loss))"
      ],
      "metadata": {
        "id": "sYX0oVM86TRY"
      },
      "execution_count": null,
      "outputs": []
    },
    {
      "cell_type": "code",
      "source": [
        "for epoch in range(1,10):\n",
        "  train(epoch)\n",
        "  test()"
      ],
      "metadata": {
        "id": "7FSc_AYK7B1Z"
      },
      "execution_count": null,
      "outputs": []
    }
  ]
}